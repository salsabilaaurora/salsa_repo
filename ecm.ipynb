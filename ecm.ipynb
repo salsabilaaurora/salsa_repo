{
 "cells": [
  {
   "cell_type": "code",
   "execution_count": 30,
   "metadata": {},
   "outputs": [
    {
     "data": {
      "text/html": [
       "<div>\n",
       "<style scoped>\n",
       "    .dataframe tbody tr th:only-of-type {\n",
       "        vertical-align: middle;\n",
       "    }\n",
       "\n",
       "    .dataframe tbody tr th {\n",
       "        vertical-align: top;\n",
       "    }\n",
       "\n",
       "    .dataframe thead th {\n",
       "        text-align: right;\n",
       "    }\n",
       "</style>\n",
       "<table border=\"1\" class=\"dataframe\">\n",
       "  <thead>\n",
       "    <tr style=\"text-align: right;\">\n",
       "      <th></th>\n",
       "      <th>TAHUN</th>\n",
       "      <th>UMR</th>\n",
       "      <th>INFLASI</th>\n",
       "      <th>JUMLAH PENDUDUK</th>\n",
       "      <th>ANGKATAN KERJA</th>\n",
       "      <th>BEKERJA</th>\n",
       "      <th>PENGANGGURAN</th>\n",
       "      <th>PERTUMBUHAN EKONOMI</th>\n",
       "    </tr>\n",
       "  </thead>\n",
       "  <tbody>\n",
       "    <tr>\n",
       "      <th>0</th>\n",
       "      <td>1997</td>\n",
       "      <td>135000</td>\n",
       "      <td>11.10%</td>\n",
       "      <td>204.000.000</td>\n",
       "      <td>89.230.978</td>\n",
       "      <td>85.047.007</td>\n",
       "      <td>4.183.971</td>\n",
       "      <td>6.5%</td>\n",
       "    </tr>\n",
       "    <tr>\n",
       "      <th>1</th>\n",
       "      <td>1998</td>\n",
       "      <td>150900</td>\n",
       "      <td>77.60%</td>\n",
       "      <td>207.000.000</td>\n",
       "      <td>92.337.801</td>\n",
       "      <td>87.292.541</td>\n",
       "      <td>5.045.260</td>\n",
       "      <td>0</td>\n",
       "    </tr>\n",
       "    <tr>\n",
       "      <th>2</th>\n",
       "      <td>1999</td>\n",
       "      <td>175400</td>\n",
       "      <td>2.00%</td>\n",
       "      <td>211.000.000</td>\n",
       "      <td>94.847.178</td>\n",
       "      <td>88.816.859</td>\n",
       "      <td>6.030.319</td>\n",
       "      <td>0.79%</td>\n",
       "    </tr>\n",
       "    <tr>\n",
       "      <th>3</th>\n",
       "      <td>2000</td>\n",
       "      <td>216500</td>\n",
       "      <td>9.40%</td>\n",
       "      <td>214.000.000</td>\n",
       "      <td>95.650.961</td>\n",
       "      <td>89.837.730</td>\n",
       "      <td>5.813.231</td>\n",
       "      <td>3.6%</td>\n",
       "    </tr>\n",
       "    <tr>\n",
       "      <th>4</th>\n",
       "      <td>2001</td>\n",
       "      <td>290500</td>\n",
       "      <td>12.55%</td>\n",
       "      <td>217.000.000</td>\n",
       "      <td>98.812.448</td>\n",
       "      <td>90.807.417</td>\n",
       "      <td>8.005.031</td>\n",
       "      <td>4.9%</td>\n",
       "    </tr>\n",
       "  </tbody>\n",
       "</table>\n",
       "</div>"
      ],
      "text/plain": [
       "   TAHUN     UMR  INFLASI JUMLAH PENDUDUK ANGKATAN KERJA     BEKERJA  \\\n",
       "0   1997  135000   11.10%     204.000.000     89.230.978  85.047.007   \n",
       "1   1998  150900   77.60%     207.000.000     92.337.801  87.292.541   \n",
       "2   1999  175400    2.00%     211.000.000     94.847.178  88.816.859   \n",
       "3   2000  216500    9.40%     214.000.000     95.650.961  89.837.730   \n",
       "4   2001  290500   12.55%     217.000.000     98.812.448  90.807.417   \n",
       "\n",
       "  PENGANGGURAN PERTUMBUHAN EKONOMI  \n",
       "0    4.183.971                6.5%  \n",
       "1    5.045.260                   0  \n",
       "2    6.030.319               0.79%  \n",
       "3    5.813.231                3.6%  \n",
       "4    8.005.031                4.9%  "
      ]
     },
     "execution_count": 30,
     "metadata": {},
     "output_type": "execute_result"
    }
   ],
   "source": [
    "import pandas as pd\n",
    "import numpy as np\n",
    "import statsmodels.api as sm\n",
    "from statsmodels.tsa.stattools import adfuller\n",
    "\n",
    "# Membaca file CSV\n",
    "data = pd.read_csv(\"D:/KULIAH/SEMESTER 5/EKONOMETRIKA/UMR INDONESIA.csv\", sep = ';')\n",
    "data = pd.DataFrame(data)\n",
    "data.dropna()\n",
    "data.head()\n"
   ]
  },
  {
   "cell_type": "code",
   "execution_count": 31,
   "metadata": {},
   "outputs": [
    {
     "data": {
      "text/plain": [
       "TAHUN                   int64\n",
       "UMR                     int64\n",
       "INFLASI                object\n",
       "JUMLAH PENDUDUK        object\n",
       "ANGKATAN KERJA         object\n",
       "BEKERJA                object\n",
       "PENGANGGURAN           object\n",
       "PERTUMBUHAN EKONOMI    object\n",
       "dtype: object"
      ]
     },
     "execution_count": 31,
     "metadata": {},
     "output_type": "execute_result"
    }
   ],
   "source": [
    "data.dtypes"
   ]
  },
  {
   "cell_type": "code",
   "execution_count": 32,
   "metadata": {},
   "outputs": [],
   "source": [
    "# Ganti NaN sementara dengan string kosong (jika ada NaN)\n",
    "data[\"INFLASI\"] = data[\"INFLASI\"].fillna(\"\")"
   ]
  },
  {
   "cell_type": "code",
   "execution_count": 33,
   "metadata": {},
   "outputs": [
    {
     "name": "stdout",
     "output_type": "stream",
     "text": [
      "ADF Statistic: 2.0480182954597628\n",
      "p-value: 0.9987321883558152\n",
      "Critical Values:\n",
      "   1%: -3.9240193847656246\n",
      "   5%: -3.0684982031250003\n",
      "   10%: -2.67389265625\n",
      "Data tidak stasioner (gagal tolak hipotesis nol)\n"
     ]
    }
   ],
   "source": [
    "import pandas as pd\n",
    "import numpy as np\n",
    "import statsmodels.api as sm\n",
    "from statsmodels.tsa.stattools import adfuller\n",
    "\n",
    "# Melakukan uji ADF pada kolom UMR\n",
    "result = adfuller(data['UMR'])\n",
    "\n",
    "# Menampilkan hasil\n",
    "print('ADF Statistic:', result[0])\n",
    "print('p-value:', result[1])\n",
    "print('Critical Values:')\n",
    "for key, value in result[4].items():\n",
    "    print(f'   {key}: {value}')\n",
    "\n",
    "# Interpretasi hasil\n",
    "if result[1] < 0.05:\n",
    "    print(\"Data stasioner (tolak hipotesis nol)\")\n",
    "else:\n",
    "    print(\"Data tidak stasioner (gagal tolak hipotesis nol)\")"
   ]
  },
  {
   "cell_type": "code",
   "execution_count": 34,
   "metadata": {},
   "outputs": [
    {
     "data": {
      "text/plain": [
       "(2.0480182954597628,\n",
       " 0.9987321883558152,\n",
       " 9,\n",
       " 16,\n",
       " {'1%': -3.9240193847656246, '5%': -3.0684982031250003, '10%': -2.67389265625},\n",
       " 421.3959501543679)"
      ]
     },
     "execution_count": 34,
     "metadata": {},
     "output_type": "execute_result"
    }
   ],
   "source": [
    "result"
   ]
  },
  {
   "cell_type": "code",
   "execution_count": 35,
   "metadata": {},
   "outputs": [
    {
     "data": {
      "text/plain": [
       "Index(['TAHUN', 'UMR', 'INFLASI', 'JUMLAH PENDUDUK', 'ANGKATAN KERJA',\n",
       "       'BEKERJA', 'PENGANGGURAN', 'PERTUMBUHAN EKONOMI'],\n",
       "      dtype='object')"
      ]
     },
     "execution_count": 35,
     "metadata": {},
     "output_type": "execute_result"
    }
   ],
   "source": [
    "data.columns"
   ]
  },
  {
   "cell_type": "code",
   "execution_count": 36,
   "metadata": {},
   "outputs": [
    {
     "name": "stdout",
     "output_type": "stream",
     "text": [
      "TAHUN                    int64\n",
      "UMR                      int64\n",
      "INFLASI                float64\n",
      "JUMLAH PENDUDUK        float64\n",
      "ANGKATAN KERJA         float64\n",
      "BEKERJA                float64\n",
      "PENGANGGURAN           float64\n",
      "PERTUMBUHAN EKONOMI    float64\n",
      "dtype: object\n",
      "    TAHUN      UMR  INFLASI  JUMLAH PENDUDUK  ANGKATAN KERJA      BEKERJA  \\\n",
      "0    1997   135000   1110.0      204000000.0      89230978.0   85047007.0   \n",
      "1    1998   150900   7760.0      207000000.0      92337801.0   87292541.0   \n",
      "2    1999   175400    200.0      211000000.0      94847178.0   88816859.0   \n",
      "3    2000   216500    940.0      214000000.0      95650961.0   89837730.0   \n",
      "4    2001   290500   1255.0      217000000.0      98812448.0   90807417.0   \n",
      "5    2002   362700   1003.0      220000000.0     100779270.0   91647166.0   \n",
      "6    2003   414700    516.0      223000000.0     102750092.0   92810791.0   \n",
      "7    2004   458500    640.0      225000000.0     103973387.0   93722036.0   \n",
      "8    2005   507697   1711.0      228000000.0     105857653.0   93958387.0   \n",
      "9    2006   602702    660.0      231000000.0     106388935.0   95456935.0   \n",
      "10   2007   672480    659.0      234000000.0     109941359.0   99930217.0   \n",
      "11   2008   745709   1106.0      237000000.0     111947265.0  102552750.0   \n",
      "12   2009   841530    278.0      241000000.0     113833280.0  104870663.0   \n",
      "13   2010   908824    696.0      244000000.0     116527546.0  108207767.0   \n",
      "14   2011   988829    379.0      247000000.0     116097701.0  107416309.0   \n",
      "15   2012  1088903    430.0      250000000.0     119849734.0  112504868.0   \n",
      "16   2013  1550000    838.0      253000000.0     120172003.0  112761072.0   \n",
      "17   2014  1584391    836.0      256000000.0     121872931.0  114628026.0   \n",
      "18   2015  1790342    335.0      259000000.0     122380021.0  114819199.0   \n",
      "19   2016  1997819    302.0      261000000.0     125443748.0  118411973.0   \n",
      "20   2017  2020500    361.0      264000000.0     128062746.0  121022423.0   \n",
      "21   2018  2268874    313.0      267000000.0     133940000.0  127070000.0   \n",
      "22   2019  2455662    272.0      269000000.0     136018000.0  129936000.0   \n",
      "23   2020  2672371    142.0      271000000.0     138022000.0  128945000.0   \n",
      "24   2021  2608093    187.0      273000000.0     140015000.0  131005000.0   \n",
      "25   2022  2644709    484.0      275000000.0     147032000.0  138030000.0   \n",
      "\n",
      "    PENGANGGURAN  PERTUMBUHAN EKONOMI  \n",
      "0      4183971.0                 65.0  \n",
      "1      5045260.0                  0.0  \n",
      "2      6030319.0                 79.0  \n",
      "3      5813231.0                 36.0  \n",
      "4      8005031.0                 49.0  \n",
      "5      9132104.0                 45.0  \n",
      "6      9939301.0                 50.0  \n",
      "7     10251351.0                 56.0  \n",
      "8     11899266.0                 61.0  \n",
      "9     10932000.0                 55.0  \n",
      "10    10011142.0                 69.0  \n",
      "11     9394515.0                 68.0  \n",
      "12     8962617.0                 45.0  \n",
      "13     8319779.0                 61.0  \n",
      "14     8681392.0                 65.0  \n",
      "15     7344866.0                623.0  \n",
      "16     7410931.0                556.0  \n",
      "17     7244905.0                502.0  \n",
      "18     7560822.0                488.0  \n",
      "19     7031775.0                503.0  \n",
      "20     7040323.0                507.0  \n",
      "21     6870000.0                517.0  \n",
      "22     6082000.0                502.0  \n",
      "23     9077000.0                  0.0  \n",
      "24     9010000.0                307.0  \n",
      "25     8007000.0                531.0  \n"
     ]
    }
   ],
   "source": [
    "# Langkah 1: Membersihkan nilai di kolom object\n",
    "for col in data.columns:\n",
    "    if data[col].dtypes == 'object': \n",
    "        data[col] = (\n",
    "            data[col]\n",
    "            .astype(str)  \n",
    "            .str.replace('%', '', regex=False)  # Hapus simbol persem\n",
    "            .str.replace('$', '', regex=False)  # Hapus simbol dollar\n",
    "            .str.replace('.', '', regex=False)  # Hapus tanda titik\n",
    "            .str.strip()  # Hapus spasi ekstra\n",
    "            .replace('', np.nan)  # Ganti string kosong dengan NaN\n",
    "        )\n",
    "\n",
    "# Langkah 2: Konversi ke float\n",
    "for col in data.columns:\n",
    "    if col not in [\"TAHUN\", \"UMR\"]:  \n",
    "        try:\n",
    "            data[col] = data[col].astype(float)\n",
    "        except ValueError as e:\n",
    "            print(f\"Error saat mengonversi kolom {col}: {e}\")\n",
    "            print(\"Nilai yang bermasalah:\")\n",
    "            print(data[col].unique())\n",
    "\n",
    "# Output hasil\n",
    "print(data.dtypes)\n",
    "print(data)"
   ]
  },
  {
   "cell_type": "code",
   "execution_count": 38,
   "metadata": {},
   "outputs": [
    {
     "name": "stdout",
     "output_type": "stream",
     "text": [
      "Uji Ko-integrasi p-value: 8.889784337679406e-08\n",
      "Tolak hipotesis nol: Ada ko-integrasi\n"
     ]
    }
   ],
   "source": [
    "import pandas as pd\n",
    "from statsmodels.tsa.stattools import coint\n",
    "\n",
    "data = pd.DataFrame(data)\n",
    "\n",
    "# Uji ko-integrasi antara INFLASI dan JUMLAH_PENDUDUK\n",
    "score, p_value, _ = coint(data['INFLASI'], data['JUMLAH PENDUDUK'])\n",
    "\n",
    "# Menampilkan hasil uji ko-integrasi\n",
    "print(f'Uji Ko-integrasi p-value: {p_value}')\n",
    "if p_value < 0.05:\n",
    "    print(\"Tolak hipotesis nol: Ada ko-integrasi\")\n",
    "else:\n",
    "    print(\"Gagal tolak hipotesis nol: Tidak ada ko-integrasi\")\n"
   ]
  },
  {
   "cell_type": "code",
   "execution_count": null,
   "metadata": {},
   "outputs": [
    {
     "name": "stdout",
     "output_type": "stream",
     "text": [
      "                            OLS Regression Results                            \n",
      "==============================================================================\n",
      "Dep. Variable:                    UMR   R-squared:                       0.936\n",
      "Model:                            OLS   Adj. R-squared:                  0.930\n",
      "Method:                 Least Squares   F-statistic:                     167.9\n",
      "Date:                Sat, 23 Nov 2024   Prob (F-statistic):           1.90e-14\n",
      "Time:                        15:53:09   Log-Likelihood:                -356.56\n",
      "No. Observations:                  26   AIC:                             719.1\n",
      "Df Residuals:                      23   BIC:                             722.9\n",
      "Df Model:                           2                                         \n",
      "Covariance Type:            nonrobust                                         \n",
      "===================================================================================\n",
      "                      coef    std err          t      P>|t|      [0.025      0.975]\n",
      "-----------------------------------------------------------------------------------\n",
      "const           -8.436e+06   5.83e+05    -14.465      0.000   -9.64e+06   -7.23e+06\n",
      "INFLASI            45.4355     35.908      1.265      0.218     -28.845     119.716\n",
      "JUMLAH PENDUDUK     0.0396      0.002     16.879      0.000       0.035       0.044\n",
      "==============================================================================\n",
      "Omnibus:                        0.339   Durbin-Watson:                   0.388\n",
      "Prob(Omnibus):                  0.844   Jarque-Bera (JB):                0.500\n",
      "Skew:                           0.061   Prob(JB):                        0.779\n",
      "Kurtosis:                       2.332   Cond. No.                     3.10e+09\n",
      "==============================================================================\n",
      "\n",
      "Notes:\n",
      "[1] Standard Errors assume that the covariance matrix of the errors is correctly specified.\n",
      "[2] The condition number is large, 3.1e+09. This might indicate that there are\n",
      "strong multicollinearity or other numerical problems.\n",
      "        UMR            ECT\n",
      "0    135000  451908.306309\n",
      "1    150900   47010.762075\n",
      "2    175400  256801.866666\n",
      "3    216500  145628.373367\n",
      "4    290500   86664.985254\n",
      "5    362700   51663.549236\n",
      "6    414700    7139.465496\n",
      "7    458500  -33795.336667\n",
      "8    507697 -151910.994240\n",
      "9    602702 -127804.432509\n",
      "10   672480 -176632.189472\n",
      "11   745709 -242364.069078\n",
      "12   841530 -267124.030628\n",
      "13   908824 -337473.279528\n",
      "14   988829 -361716.405341\n",
      "15  1088903 -382610.810468\n",
      "16  1550000  -58702.703951\n",
      "17  1584391 -142872.025373\n",
      "18  1790342  -32809.011529\n",
      "19  1997819   97066.566341\n",
      "20  2020500   -1584.323119\n",
      "21  2268874  130319.390373\n",
      "22  2455662  239869.452576\n",
      "23  2672371  383384.277983\n",
      "24  2608093  237960.883607\n",
      "25  2644709  181981.732744\n"
     ]
    }
   ],
   "source": [
    "import pandas as pd\n",
    "import statsmodels.api as sm\n",
    "\n",
    "X = data[['INFLASI', 'JUMLAH PENDUDUK']]\n",
    "\n",
    "# Menambahkan konstanta untuk model OLS\n",
    "X = sm.add_constant(X)\n",
    "\n",
    "# Model regresi jangka panjang\n",
    "long_term_model = sm.OLS(data['UMR'], X).fit()\n",
    "\n",
    "# Menyimpan residual sebagai Error Correction Term (ECT)\n",
    "data['ECT'] = long_term_model.resid\n",
    "\n",
    "# Menampilkan hasil\n",
    "print(long_term_model.summary())\n",
    "print(data[['UMR', 'ECT']])"
   ]
  },
  {
   "cell_type": "code",
   "execution_count": null,
   "metadata": {},
   "outputs": [],
   "source": []
  },
  {
   "cell_type": "code",
   "execution_count": null,
   "metadata": {},
   "outputs": [],
   "source": []
  }
 ],
 "metadata": {
  "kernelspec": {
   "display_name": "Python 3",
   "language": "python",
   "name": "python3"
  },
  "language_info": {
   "codemirror_mode": {
    "name": "ipython",
    "version": 3
   },
   "file_extension": ".py",
   "mimetype": "text/x-python",
   "name": "python",
   "nbconvert_exporter": "python",
   "pygments_lexer": "ipython3",
   "version": "3.11.9"
  }
 },
 "nbformat": 4,
 "nbformat_minor": 2
}
